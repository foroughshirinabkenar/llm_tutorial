{
 "cells": [
  {
   "cell_type": "markdown",
   "id": "ae38f598-6454-4b84-b9d2-af09ec5eec81",
   "metadata": {},
   "source": [
    "# LLMs Fine-tuning\n",
    "In this project, we fine-tune a small & GPU-friendly large language model (LLM), named as <b>Qwen2.5 0.5B-Instruct</b>. In this regard, we import the required models and libraries from <a href=\"https://huggingface.co/\" target=\"_blank\"><strong>Hugging Face</strong></a>"
   ]
  },
  {
   "cell_type": "markdown",
   "id": "593c8aa4-e5f4-482c-97bf-f28452ae25c9",
   "metadata": {},
   "source": [
    "## Import Libraries"
   ]
  },
  {
   "cell_type": "code",
   "execution_count": null,
   "id": "1cf1f963-8cad-47e0-8bb4-c89f26cb3022",
   "metadata": {},
   "outputs": [],
   "source": [
    "from datasets import Dataset                              # creates Hugging Face dataset from Python lists/dicts\n",
    "from transformers import AutoTokenizer                    # loads tokenizer for the chosen model\n",
    "from transformers import AutoModelForCausalLM             # loads a causal language model\n",
    "from transformers import TrainingArguments                # defines all hyperparameters for training\n",
    "from transformers import DataCollatorForLanguageModeling  # prepares batches for training\n",
    "from transformers import Trainer                          # is the Hugging Face API for fine-tuning\n",
    "\n",
    "import warnings\n",
    "warnings.filterwarnings(\"ignore\")"
   ]
  },
  {
   "cell_type": "markdown",
   "id": "5f314b13-292d-4d87-a831-032fecd392d1",
   "metadata": {},
   "source": [
    "## Define Checkpoint\n",
    "The checkpoint defines the foundation model we are going to use."
   ]
  },
  {
   "cell_type": "code",
   "execution_count": null,
   "id": "2cc76304-cfe7-44ac-8ada-06271054264d",
   "metadata": {},
   "outputs": [],
   "source": [
    "checkpoint = \"Qwen/Qwen2.5-0.5B-Instruct\""
   ]
  },
  {
   "cell_type": "markdown",
   "id": "02329924-f488-46e5-92a7-394c5f48c46f",
   "metadata": {},
   "source": [
    "## Load Tokenizer\n",
    "Load the tokenizer corresponding to the foundation model."
   ]
  },
  {
   "cell_type": "code",
   "execution_count": null,
   "id": "fae5bf05-867b-4424-b538-0bd41ab564bc",
   "metadata": {},
   "outputs": [],
   "source": [
    "# fast tokenizer is faster and backed by Rust (systems programming language)\n",
    "tokenizer = AutoTokenizer.from_pretrained(checkpoint, use_fast=True)\n",
    "\n",
    "# some models do not own a dedicated padding token; thus, we set it manually\n",
    "# using end-of-sequence (eos) token to avoid errors\n",
    "tokenizer.pad_token = tokenizer.eos_token"
   ]
  },
  {
   "cell_type": "markdown",
   "id": "62199531-39ae-453b-9dae-ba2e805adbfd",
   "metadata": {},
   "source": [
    "## Create a Synthetic Dataset"
   ]
  },
  {
   "cell_type": "code",
   "execution_count": null,
   "id": "281d38de-1307-4701-a1c8-08ea0a54a417",
   "metadata": {},
   "outputs": [],
   "source": [
    "rows = [\n",
    "    {\"prompt\": \"Explain overfitting to a 10-year-old.\",\n",
    "     \"response\": \"Overfitting is like memorizing your homework answers.\"},\n",
    "    {\"prompt\": \"Give tips for writing a research paper.\",\n",
    "     \"response\": \"Brainstorm about the idea, read the literature, and define motivation, contribution, and solution\"}\n",
    "]"
   ]
  },
  {
   "cell_type": "markdown",
   "id": "02911fd2-39d3-409e-b657-1d497cc2cd9a",
   "metadata": {},
   "source": [
    "## Format Data for the Chat Model"
   ]
  },
  {
   "cell_type": "code",
   "execution_count": null,
   "id": "e3d89557-f7e2-4434-b0cf-7ac68d9cec65",
   "metadata": {},
   "outputs": [],
   "source": [
    "def format_row(r):\n",
    "    return f\"<|user|>\\n{r['prompt']}\\n<|assistant|>\\n{r['response']}\"\n",
    "\n",
    "data = Dataset.from_list([\n",
    "    {'text': format_row(r)} for r in rows\n",
    "])\n",
    "data"
   ]
  },
  {
   "cell_type": "code",
   "execution_count": null,
   "id": "42b60ffd-bed2-4def-a993-97c4e05ac347",
   "metadata": {},
   "outputs": [],
   "source": [
    "print(data[0])"
   ]
  },
  {
   "cell_type": "markdown",
   "id": "400b6a9a-f99a-4568-8283-b7adfedd699d",
   "metadata": {},
   "source": [
    "## Tokenize the Dataset\n",
    "The tokenizer is responsible for tokenizing the inputs into <b>token IDs</b>. In this regard:\n",
    "<ul>\n",
    "    <li>\n",
    "        <b>truncation:</b> ensures that sequences do not exceed maximum length of tokens (i.e., <em>max_length</em>).\n",
    "    </li>\n",
    "    <li>\n",
    "        <b>padding:</b> pads all sequences to <em>max_length</em>; can be set either here or for collator.\n",
    "    </li>\n",
    "    <li>\n",
    "        <b>labeling:</b> as the procedure is a causal LM training (predicting next tokens), we set <b>labels = input_ids</b>.\n",
    "    </li>\n",
    "</ul>"
   ]
  },
  {
   "cell_type": "code",
   "execution_count": null,
   "id": "b3a8f400-96c1-4de8-9c62-16ee95dd50bf",
   "metadata": {},
   "outputs": [],
   "source": [
    "def tokenization_fn(batch):\n",
    "    out = tokenizer(batch['text'],\n",
    "                    truncation=True,\n",
    "                    padding=\"max_length\",\n",
    "                    max_length=1024,\n",
    "                   return_tensors=None)\n",
    "    out[\"labels\"] = out[\"input_ids\"].copy()\n",
    "\n",
    "    return out\n",
    "\n",
    "token_data = data.map(tokenization_fn, batched=True, remove_columns=[\"text\"])\n",
    "token_data"
   ]
  },
  {
   "cell_type": "markdown",
   "id": "701186a3-9d81-44c1-94b3-f616811f5641",
   "metadata": {},
   "source": [
    "## Load Model\n",
    "We load the foundation model. To this end:\n",
    "<ul>\n",
    "    <li>\n",
    "        We set <em>device_map=\"auto\"</em>, whereby the most compatible device (i.e., cuda, mps, cpu, etc.) is chosen.\n",
    "    </li>\n",
    "    <li>\n",
    "        We set <em>torch_dtype=\"auto\"</em> by which the most suitable dtype is chosen.\n",
    "    </li>\n",
    "</ul>"
   ]
  },
  {
   "cell_type": "code",
   "execution_count": null,
   "id": "1918f0c5-e387-4139-aae1-c430237b5278",
   "metadata": {},
   "outputs": [],
   "source": [
    "model = AutoModelForCausalLM.from_pretrained(\n",
    "    checkpoint, device_map=\"auto\", torch_dtype=\"auto\"\n",
    ")"
   ]
  },
  {
   "cell_type": "markdown",
   "id": "ac195e97-e377-45e3-b888-b1394e3729de",
   "metadata": {},
   "source": [
    "## Define Training Hyperparameters\n",
    "We have a list of parameters and hyperparameters to set:\n",
    "<ul>\n",
    "    <li>\n",
    "        <b>output_dir:</b> the directory where checkpoints are saved.\n",
    "    </li>\n",
    "    <li>\n",
    "        <b>per_device_train_batch_size:</b> keeps virtual random access memeory (VRAM) usage low.\n",
    "    </li>\n",
    "    <li>\n",
    "        <b>gradient_accumulation_steps:</b> simulates larger effective batch size without increasing VRAM.\n",
    "    </li>\n",
    "    <li>\n",
    "        <b>num_train_epochs:</b> number of passes over the dataset for fine-tuning.\n",
    "    </li>\n",
    "    <li>\n",
    "        <b>learning_rate:</b> learning rate.\n",
    "    </li>\n",
    "    <li>\n",
    "        <b>logging_steps:</b> number of steps for logging loss.\n",
    "    </li>\n",
    "    <li>\n",
    "        <b>save_steps:</b> number of steps to save checkpoints.\n",
    "    </li>\n",
    "</ul>"
   ]
  },
  {
   "cell_type": "code",
   "execution_count": null,
   "id": "6150fe0c-e17a-4230-83f3-c7df2920b85c",
   "metadata": {},
   "outputs": [],
   "source": [
    "args = TrainingArguments(\n",
    "    output_dir='output_dir',\n",
    "    per_device_train_batch_size=2,\n",
    "    gradient_accumulation_steps=8,\n",
    "    num_train_epochs=3,\n",
    "    learning_rate=1e-4,\n",
    "    logging_steps=10,\n",
    "    save_steps=1000\n",
    ")"
   ]
  },
  {
   "cell_type": "markdown",
   "id": "f1269184-0377-4e79-906f-7d8a93b9e843",
   "metadata": {},
   "source": [
    "## Create Data Collator\n",
    "Data collator handles padding and batching. It takes a list of individual data samples and organizes them into a single and consistent batch using padding, creating attention masks, handeling special tokens, etc."
   ]
  },
  {
   "cell_type": "code",
   "execution_count": null,
   "id": "b9988c12-b5d4-461c-bbba-7edd7e01bdff",
   "metadata": {},
   "outputs": [],
   "source": [
    "collator = DataCollatorForLanguageModeling(tokenizer, mlm=False) # not a maske language model (MLM) task\n",
    "# collator = DataCollatorForLanguageModeling(tokenizer, model=model, padding=True) # if padding is not set for tokenizer"
   ]
  },
  {
   "cell_type": "markdown",
   "id": "d35d65bc-5827-41fd-a88a-80bfaa90c951",
   "metadata": {},
   "source": [
    "## Initialize Trainer"
   ]
  },
  {
   "cell_type": "code",
   "execution_count": null,
   "id": "ce9bf439-6109-4cee-9732-80b15d5c7ba8",
   "metadata": {},
   "outputs": [],
   "source": [
    "trainer = Trainer(\n",
    "    model=model,\n",
    "    args=args,\n",
    "    train_dataset=token_data,\n",
    "    data_collator=collator\n",
    ")\n",
    "trainer.train()"
   ]
  },
  {
   "cell_type": "markdown",
   "id": "ffe8eddd-136a-4402-a8e2-8257f83c4445",
   "metadata": {},
   "source": [
    "## Save Model and Tokenizer"
   ]
  },
  {
   "cell_type": "code",
   "execution_count": null,
   "id": "c84cdeec-5008-4260-aa58-9057b4715148",
   "metadata": {},
   "outputs": [],
   "source": [
    "model.save_pretrained(\"models/fine_tuning/fine_tuned\")\n",
    "tokenizer.save_pretrained(\"models/fine_tuning/fine_tuned\")"
   ]
  },
  {
   "cell_type": "markdown",
   "id": "2e50cc29-dc76-4f5e-9043-3f603b4ec41a",
   "metadata": {},
   "source": [
    "## Evaluations"
   ]
  },
  {
   "cell_type": "code",
   "execution_count": null,
   "id": "585bca5c-3edd-4f37-ac17-99548572000f",
   "metadata": {},
   "outputs": [],
   "source": [
    "metrics = trainer.evaluate(token_data)\n",
    "for k, v in metrics.items():\n",
    "    print(f\"{k}: {v}\")"
   ]
  },
  {
   "cell_type": "markdown",
   "id": "749c8300-26c6-426e-9fd2-607b56e63435",
   "metadata": {},
   "source": [
    "### Perplexity\n",
    "Perplexity (PPL) measures how well the model predicts the next token:\n",
    "\n",
    "<center>\n",
    "    $\\text{Perplexity (PPL)} = \\exp(\\text{loss})$\n",
    "</center>\n",
    "\n",
    "<ul>\n",
    "    <li>\n",
    "        <b>Low PPL (<20)</b> → better language modeling.\n",
    "    </li>\n",
    "    <li>\n",
    "        <b>High PPL (>100)</b> → model struggles with the dataset.\n",
    "    </li>\n",
    "</ul>"
   ]
  },
  {
   "cell_type": "code",
   "execution_count": null,
   "id": "e5e95fb1-995d-40a4-86c5-cc1ea5701a7d",
   "metadata": {},
   "outputs": [],
   "source": [
    "import math\n",
    "loss = metrics['eval_loss']\n",
    "ppl = math.exp(loss)\n",
    "print('Perplexity:', ppl)"
   ]
  },
  {
   "cell_type": "markdown",
   "id": "38873def-2ed6-46f3-9b75-e483247e5ce5",
   "metadata": {},
   "source": [
    "### BLEU and ROUGE\n",
    "<ul>\n",
    "    <li>\n",
    "        <b>BLEU:</b> evaluates the quality of machine-translated text by comparing it to human-created reference translations (overlap of n-grams)\n",
    "    </li>\n",
    "    <li>\n",
    "        <b>ROUGE:</b> calculates precision, recall, and an F1 score to quantify the overlap in words, phrases, and sequences.\n",
    "    </li>\n",
    "</ul>\n",
    "\n",
    "We need to define a function to genrate the outputs:\n",
    "<ul>\n",
    "    <li>\n",
    "        <b>max_new_tokens</b>: limits the number of tokens the model can generate. it only counts new tokens, not the input. e.g., Input (20 tokens) and <em>max_new_tokens</em>=256. Therefore, the output sequence can be up to 276 tokens (20 input + 256 generated).\n",
    "    </li>\n",
    "    <li>\n",
    "        <b>do_sample</b>: by default, some models use greedy decoding (always pick the highest-probability next token). This feature enables sampling from the model's probability distribution. Hence it makes output less deterministic and more creative/varied.\n",
    "    </li>\n",
    "    <li>\n",
    "        <b>temperature</b>: controls randomness in sampling. If less than 1.0, then makes predictions more confident/conservative; otherwise, the predictions are more random/creative.\n",
    "    </li>\n",
    "    <li>\n",
    "        <b>top_p</b>: implements nucleus sampling, i.e., only considers the smallest set of tokens whose cumulative probability is greater than or equal to <em>top_p</em>.\n",
    "    </li>\n",
    "</ul>"
   ]
  },
  {
   "cell_type": "code",
   "execution_count": null,
   "id": "99fa8f69-7393-4318-b4eb-482a20149cd9",
   "metadata": {},
   "outputs": [],
   "source": [
    "def chat(prompt):\n",
    "    inputs = tokenizer(prompt, return_tensors=\"pt\").to(model.device)\n",
    "    \n",
    "    outputs = model.generate(\n",
    "        **inputs,\n",
    "        max_new_tokens=256,\n",
    "        do_sample=True,\n",
    "        temperature=0.7,\n",
    "        top_p=0.9\n",
    "    )\n",
    "    \n",
    "    return tokenizer.decode(outputs[0], skip_special_tokens=True)"
   ]
  },
  {
   "cell_type": "code",
   "execution_count": null,
   "id": "942340b4-95fd-4c2e-8fc8-a4aeaed599ff",
   "metadata": {},
   "outputs": [],
   "source": [
    "# pip install absl-py nltk datasets rouge-score"
   ]
  },
  {
   "cell_type": "code",
   "execution_count": null,
   "id": "40e2f1ec-c9f4-437f-b9f7-d5d049af2f88",
   "metadata": {},
   "outputs": [],
   "source": [
    "import numpy as np\n",
    "import evaluate\n",
    "import nltk\n",
    "# nltk.download('punkt')   # ensures ROUGE can tokenize correctly\n",
    "\n",
    "rouge = evaluate.load('rouge')\n",
    "bleu = evaluate.load('bleu')\n",
    "\n",
    "predictions, references = [], []\n",
    "for row in data:\n",
    "    prompt = row[\"text\"].split(\"<|assistant|>\")[0] + \"<|assistant|>\\n\"\n",
    "    pred = chat(prompt)\n",
    "    ref = row[\"text\"].split(\"<|assistant|>\")[1]\n",
    "    predictions.append(pred)\n",
    "    references.append(ref)\n",
    "\n",
    "rouge_score = rouge.compute(predictions=predictions, references=references)\n",
    "bleu_score = bleu.compute(predictions=predictions, references=references)"
   ]
  },
  {
   "cell_type": "code",
   "execution_count": null,
   "id": "4e8d2420-c348-4605-af58-9c6a35b5bb78",
   "metadata": {},
   "outputs": [],
   "source": [
    "for k, v in rouge_score.items():\n",
    "    print(f\"{k}: {v: .4f}\")"
   ]
  },
  {
   "cell_type": "code",
   "execution_count": null,
   "id": "3183b2f0-8006-4935-afb9-36ea92905b70",
   "metadata": {},
   "outputs": [],
   "source": [
    "grams = ['unigrams', 'bigrams', 'trigrams', 'quadgrams']\n",
    "for k, v in bleu_score.items():\n",
    "    if k == 'bleu':\n",
    "        print(f\"{k}: {v: .4f}\")\n",
    "    elif k == 'precisions':\n",
    "        for i in range(4):\n",
    "            print(f\"{grams[i]}: {v[i]: .4f}\")"
   ]
  },
  {
   "cell_type": "code",
   "execution_count": null,
   "id": "fc5007b5-973d-41f8-9737-99594733f3d9",
   "metadata": {},
   "outputs": [],
   "source": [
    "for i in range(len(references)):\n",
    "    print(f\"Reference: {references[i]}\")\n",
    "    print(f\"\\nPrediction: {predictions[i].split(\"<|assistant|>\")[1]}\")\n",
    "    print(\"******************************\")"
   ]
  },
  {
   "cell_type": "code",
   "execution_count": null,
   "id": "6344eb61-8a7b-43ae-9d22-598918547d7f",
   "metadata": {},
   "outputs": [],
   "source": []
  }
 ],
 "metadata": {
  "kernelspec": {
   "display_name": "Python 3 (ipykernel)",
   "language": "python",
   "name": "python3"
  },
  "language_info": {
   "codemirror_mode": {
    "name": "ipython",
    "version": 3
   },
   "file_extension": ".py",
   "mimetype": "text/x-python",
   "name": "python",
   "nbconvert_exporter": "python",
   "pygments_lexer": "ipython3",
   "version": "3.12.2"
  }
 },
 "nbformat": 4,
 "nbformat_minor": 5
}
