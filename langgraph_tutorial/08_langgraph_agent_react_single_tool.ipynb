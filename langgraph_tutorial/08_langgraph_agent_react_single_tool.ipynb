{
 "cells": [
  {
   "cell_type": "markdown",
   "id": "2051b6f5-0ff3-4995-93b2-a67d30fd6745",
   "metadata": {},
   "source": [
    "# LangGraph - Agent: Reasoning and Acting (ReAct) Agent\n",
    "The main objective of the current project is to create a robust ReAct Agent that uses <b>Tools</b>.\n",
    "\n",
    "https://www.youtube.com/watch?v=jGg_1h0qzaM"
   ]
  },
  {
   "cell_type": "markdown",
   "id": "923c3569-49cc-4ac7-a6e1-794f26e087ca",
   "metadata": {},
   "source": [
    "## Import Libraries"
   ]
  },
  {
   "cell_type": "code",
   "execution_count": 1,
   "id": "ed032223-9712-4917-8b6a-7d5b899a553b",
   "metadata": {},
   "outputs": [],
   "source": [
    "from typing import Annotated, Sequence, TypedDict\n",
    "from dotenv import load_dotenv\n",
    "from transformers import pipeline, logging\n",
    "from transformers import AutoTokenizer, AutoModelForCausalLM\n",
    "from langchain_core.messages import BaseMessage    # the functional class for all message types in langgraph\n",
    "from langchain_core.messages import ToolMessage    # passes data back to LLM after it calls\n",
    "from langchain_core.messages import SystemMessage  # message for providing instructions to the LLM\n",
    "from langchain_core.tools import tool\n",
    "from langchain_huggingface import HuggingFacePipeline, ChatHuggingFace\n",
    "from langgraph.graph.message import add_messages\n",
    "from langgraph.graph import StateGraph, START, END\n",
    "from langgraph.prebuilt import ToolNode\n",
    "\n",
    "logging.set_verbosity_error()"
   ]
  },
  {
   "cell_type": "markdown",
   "id": "978bd567-434f-4b76-bbee-fa8995a7c1ca",
   "metadata": {},
   "source": [
    "## Load Environment"
   ]
  },
  {
   "cell_type": "code",
   "execution_count": 2,
   "id": "ea8366a6-1b54-4a36-b8d5-ad34b14dfe9b",
   "metadata": {},
   "outputs": [
    {
     "data": {
      "text/plain": [
       "True"
      ]
     },
     "execution_count": 2,
     "metadata": {},
     "output_type": "execute_result"
    }
   ],
   "source": [
    "load_dotenv(\"env.env\")"
   ]
  },
  {
   "cell_type": "markdown",
   "id": "572c704e-3adf-459d-be73-bb73d8bccc6f",
   "metadata": {},
   "source": [
    "## Create AgentState"
   ]
  },
  {
   "cell_type": "code",
   "execution_count": 3,
   "id": "86737be2-1318-47d0-92b8-36d971394ad2",
   "metadata": {},
   "outputs": [],
   "source": [
    "class AgentState(TypedDict):\n",
    "    # Annotated needs metadata; add_messages provides the metadate\n",
    "    # Sequence[BaseMessage] is the type of data\n",
    "    messages: Annotated[Sequence[BaseMessage], add_messages]"
   ]
  },
  {
   "cell_type": "markdown",
   "id": "c3812c30-ccb3-412a-888b-4ddd41385165",
   "metadata": {},
   "source": [
    "## Create Tool"
   ]
  },
  {
   "cell_type": "code",
   "execution_count": 4,
   "id": "5139920e-8b36-47a8-8ac6-ba1a703f9884",
   "metadata": {},
   "outputs": [],
   "source": [
    "@tool\n",
    "def add(a: int, b: int) -> int:\n",
    "    \"\"\"This is an addition function that adds two numbers together\"\"\"\n",
    "    \n",
    "    return a + b"
   ]
  },
  {
   "cell_type": "code",
   "execution_count": 5,
   "id": "1c28e23f-fc9f-417f-817a-c2e94442e67c",
   "metadata": {},
   "outputs": [],
   "source": [
    "# to infuse tools to LLM\n",
    "tools = [add]"
   ]
  },
  {
   "cell_type": "markdown",
   "id": "f4c0f935-31c8-47c1-a4a2-9af51d915d7b",
   "metadata": {},
   "source": [
    "## LLM"
   ]
  },
  {
   "cell_type": "code",
   "execution_count": 6,
   "id": "2a9c74fd-41cf-4549-a693-83543ebe6cf9",
   "metadata": {},
   "outputs": [
    {
     "data": {
      "application/vnd.jupyter.widget-view+json": {
       "model_id": "25a1b5abcfb0400bbffe9310bfb78865",
       "version_major": 2,
       "version_minor": 0
      },
      "text/plain": [
       "Loading checkpoint shards:   0%|          | 0/4 [00:00<?, ?it/s]"
      ]
     },
     "metadata": {},
     "output_type": "display_data"
    }
   ],
   "source": [
    "# model_name = \"microsoft/DialoGPT-medium\"\n",
    "# model_name = \"gpt2\"\n",
    "model_name = \"Qwen/Qwen2.5-7B-Instruct\"\n",
    "# model_name = \"meta-llama/Llama-3-13b-hf\"\n",
    "tokenizer = AutoTokenizer.from_pretrained(model_name)\n",
    "model = AutoModelForCausalLM.from_pretrained(\n",
    "    model_name,\n",
    "    device_map='auto',\n",
    "    torch_dtype='auto'\n",
    ")\n",
    "\n",
    "generator = pipeline(\n",
    "    task=\"text-generation\",\n",
    "    model=model,\n",
    "    tokenizer=tokenizer,\n",
    "    max_new_tokens=512\n",
    ")\n",
    "\n",
    "# # llm = ChatOpenAI(model=\"gpt-4o\").bind_tools(tools)\n",
    "# # bind_tools does not work for HuggingFace; better to create a tool node\n",
    "llm_model = HuggingFacePipeline(pipeline=generator)\n",
    "llm = ChatHuggingFace(llm=llm_model).bind_tools(tools)"
   ]
  },
  {
   "cell_type": "markdown",
   "id": "ab8a3e82-8aff-4634-9864-c225677ace0d",
   "metadata": {},
   "source": [
    "## Define Node"
   ]
  },
  {
   "cell_type": "code",
   "execution_count": 7,
   "id": "4892a4b5-e7f1-43eb-b1d1-30a813c25723",
   "metadata": {},
   "outputs": [],
   "source": [
    "def model_call(state: AgentState) -> AgentState:\n",
    "    \"\"\"Passes a system prompt along with the query to the LLM\"\"\"\n",
    "\n",
    "    # system_prompt = SystemMessage(\n",
    "    #     content=\"You are my AI assitant, please answer my query to the best of your ability.\"\n",
    "    # )\n",
    "    system_prompt = SystemMessage(\n",
    "        content=\"You are an AI assistant with access to the following tools:\\n\"\n",
    "                \"Always use tools when applicable and respond using ToolMessage objects.\\n\"\n",
    "                \"Please answer my query using the defined tool, called add.\"\n",
    "    )\n",
    "    \n",
    "    response = llm.invoke([system_prompt] + state[\"messages\"])\n",
    "\n",
    "    return {\"messages\": [response]}"
   ]
  },
  {
   "cell_type": "code",
   "execution_count": 8,
   "id": "42050623-14f0-4fd2-8ba6-1c5a56357cca",
   "metadata": {},
   "outputs": [],
   "source": [
    "def check_continue(state: AgentState) -> str:\n",
    "    messages = state[\"messages\"]\n",
    "    last_message = messages[-1]\n",
    "    \n",
    "    if not last_message.tool_calls:\n",
    "        return \"end\"\n",
    "        \n",
    "    return \"continue\"\n",
    "    # if isinstance(last_message, AIMessage) and getattr(last_message, \"tool_calls\", None):\n",
    "    #     return \"continue\"\n",
    "        \n",
    "    # return \"end\""
   ]
  },
  {
   "cell_type": "markdown",
   "id": "c496b238-afef-4571-a262-7e14b544fc86",
   "metadata": {},
   "source": [
    "## Build Graph"
   ]
  },
  {
   "cell_type": "code",
   "execution_count": 9,
   "id": "01bb9aa7-518b-46e7-9e5b-33bba1af5112",
   "metadata": {},
   "outputs": [],
   "source": [
    "# initialize\n",
    "graph = StateGraph(AgentState)\n",
    "\n",
    "# add node\n",
    "graph.add_node(\"agent\", model_call)\n",
    "\n",
    "tool_node = ToolNode(tools=tools)\n",
    "graph.add_node(\"tool\", tool_node)\n",
    "\n",
    "# add edges\n",
    "graph.add_edge(START, \"agent\")\n",
    "graph.add_conditional_edges(\n",
    "    \"agent\",\n",
    "    check_continue,\n",
    "    {\n",
    "        # format -> Edge: Node\n",
    "        \"continue\": \"tool\",\n",
    "        \"end\": END\n",
    "    }\n",
    ")\n",
    "graph.add_edge(\"tool\", \"agent\")\n",
    "\n",
    "# compile\n",
    "app = graph.compile()"
   ]
  },
  {
   "cell_type": "markdown",
   "id": "850bc9be-25e0-4de0-8514-bec9cc269e19",
   "metadata": {},
   "source": [
    "## Visualize"
   ]
  },
  {
   "cell_type": "code",
   "execution_count": 10,
   "id": "d1ed322a-ec35-4c48-8cbb-86a39c997c44",
   "metadata": {},
   "outputs": [
    {
     "data": {
      "image/png": "[encoded data removed]",
      "text/plain": [
       "<IPython.core.display.Image object>"
      ]
     },
     "metadata": {},
     "output_type": "display_data"
    }
   ],
   "source": [
    "from IPython.display import Image, display\n",
    "display(Image(app.get_graph().draw_mermaid_png()))"
   ]
  },
  {
   "cell_type": "markdown",
   "id": "6f845159-76e2-4fc3-ba85-c47f2d591590",
   "metadata": {},
   "source": [
    "## Run"
   ]
  },
  {
   "cell_type": "code",
   "execution_count": 11,
   "id": "2edf627d-d407-4ca2-bb5c-0fe065c2c759",
   "metadata": {},
   "outputs": [],
   "source": [
    "def print_stream(streams):\n",
    "    for stream in streams:\n",
    "        message = stream[\"messages\"][-1]\n",
    "        if isinstance(message, tuple):\n",
    "            print(message)\n",
    "        else:\n",
    "            message.pretty_print()"
   ]
  },
  {
   "cell_type": "code",
   "execution_count": 12,
   "id": "1c908cb7-f667-4e10-a919-104f5793bda5",
   "metadata": {},
   "outputs": [
    {
     "name": "stdout",
     "output_type": "stream",
     "text": [
      "================================\u001b[1m Human Message \u001b[0m=================================\n",
      "\n",
      "Add 3 and 4.\n",
      "==================================\u001b[1m Ai Message \u001b[0m==================================\n",
      "\n",
      "<|im_start|>system\n",
      "You are an AI assistant with access to the following tools:\n",
      "Always use tools when applicable and respond using ToolMessage objects.\n",
      "Please answer my query using the defined tool, called add.<|im_end|>\n",
      "<|im_start|>user\n",
      "Add 3 and 4.<|im_end|>\n",
      "<|im_start|>assistant\n",
      "ToolMessage(tool_name='add', tool_input=(3, 4), tool_output=7)\n"
     ]
    }
   ],
   "source": [
    "inputs = {\n",
    "    \"messages\": [(\n",
    "        \"user\", \"Add 3 and 4.\"\n",
    "    )]\n",
    "}\n",
    "\n",
    "print_stream(app.stream(inputs, stream_mode=\"values\"))"
   ]
  },
  {
   "cell_type": "code",
   "execution_count": null,
   "id": "8ea1fb33-3301-4d47-a796-af60a58c8173",
   "metadata": {},
   "outputs": [],
   "source": []
  }
 ],
 "metadata": {
  "kernelspec": {
   "display_name": "Python 3 (ipykernel)",
   "language": "python",
   "name": "python3"
  },
  "language_info": {
   "codemirror_mode": {
    "name": "ipython",
    "version": 3
   },
   "file_extension": ".py",
   "mimetype": "text/x-python",
   "name": "python",
   "nbconvert_exporter": "python",
   "pygments_lexer": "ipython3",
   "version": "3.12.2"
  }
 },
 "nbformat": 4,
 "nbformat_minor": 5
}
