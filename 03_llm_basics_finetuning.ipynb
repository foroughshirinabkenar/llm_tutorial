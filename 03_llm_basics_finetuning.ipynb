{
 "cells": [
  {
   "cell_type": "markdown",
   "id": "ae38f598-6454-4b84-b9d2-af09ec5eec81",
   "metadata": {},
   "source": [
    "# LLMs Fine-tuning\n",
    "In this project, the <b>GPT-2</b> model. In this regard, we import the required models and libraries from <a href=\"https://huggingface.co/\" target=\"_blank\"><strong>Hugging Face</strong></a>"
   ]
  },
  {
   "cell_type": "markdown",
   "id": "593c8aa4-e5f4-482c-97bf-f28452ae25c9",
   "metadata": {},
   "source": [
    "## Import Libraries"
   ]
  },
  {
   "cell_type": "code",
   "execution_count": 1,
   "id": "1cf1f963-8cad-47e0-8bb4-c89f26cb3022",
   "metadata": {},
   "outputs": [],
   "source": [
    "import time\n",
    "from datasets import load_dataset\n",
    "from datasets import DatasetDict\n",
    "from transformers import AutoTokenizer                    # loads tokenizer for the chosen model\n",
    "from transformers import AutoModelForCausalLM             # loads a causal language model\n",
    "from transformers import TrainingArguments                # defines all hyperparameters for training\n",
    "from transformers import DataCollatorForLanguageModeling  # prepares batches for training\n",
    "from transformers import Trainer                          # is the Hugging Face API for fine-tuning\n",
    "\n",
    "import warnings\n",
    "warnings.filterwarnings(\"ignore\")"
   ]
  },
  {
   "cell_type": "markdown",
   "id": "1b296093-a583-4151-9909-5c7baa677070",
   "metadata": {},
   "source": [
    "## Load Dataset"
   ]
  },
  {
   "cell_type": "code",
   "execution_count": 2,
   "id": "c37b06d0-5c4d-47f4-b9fc-f88947467b73",
   "metadata": {},
   "outputs": [
    {
     "data": {
      "text/plain": [
       "DatasetDict({\n",
       "    test: Dataset({\n",
       "        features: ['text'],\n",
       "        num_rows: 4358\n",
       "    })\n",
       "    train: Dataset({\n",
       "        features: ['text'],\n",
       "        num_rows: 36718\n",
       "    })\n",
       "    validation: Dataset({\n",
       "        features: ['text'],\n",
       "        num_rows: 3760\n",
       "    })\n",
       "})"
      ]
     },
     "execution_count": 2,
     "metadata": {},
     "output_type": "execute_result"
    }
   ],
   "source": [
    "orig_dataset = load_dataset(\"wikitext\", \"wikitext-2-raw-v1\")\n",
    "orig_dataset"
   ]
  },
  {
   "cell_type": "code",
   "execution_count": 3,
   "id": "72374128-69e9-481e-bbac-c581df0989b1",
   "metadata": {},
   "outputs": [
    {
     "data": {
      "text/plain": [
       "DatasetDict({\n",
       "    train: Dataset({\n",
       "        features: ['text'],\n",
       "        num_rows: 1000\n",
       "    })\n",
       "    validation: Dataset({\n",
       "        features: ['text'],\n",
       "        num_rows: 1000\n",
       "    })\n",
       "    test: Dataset({\n",
       "        features: ['text'],\n",
       "        num_rows: 1000\n",
       "    })\n",
       "})"
      ]
     },
     "execution_count": 3,
     "metadata": {},
     "output_type": "execute_result"
    }
   ],
   "source": [
    "N = 1000\n",
    "\n",
    "dataset = DatasetDict({\n",
    "    \"train\": orig_dataset[\"train\"].select(range(N)),\n",
    "    \"validation\": orig_dataset[\"validation\"].select(range(N)),\n",
    "    \"test\": orig_dataset[\"test\"].select(range(N))\n",
    "})\n",
    "\n",
    "dataset"
   ]
  },
  {
   "cell_type": "markdown",
   "id": "5f314b13-292d-4d87-a831-032fecd392d1",
   "metadata": {},
   "source": [
    "## Define Checkpoint\n",
    "The checkpoint defines the foundation model we are going to use."
   ]
  },
  {
   "cell_type": "code",
   "execution_count": 4,
   "id": "2cc76304-cfe7-44ac-8ada-06271054264d",
   "metadata": {},
   "outputs": [],
   "source": [
    "model_name = \"gpt2\""
   ]
  },
  {
   "cell_type": "markdown",
   "id": "02329924-f488-46e5-92a7-394c5f48c46f",
   "metadata": {},
   "source": [
    "## Load Tokenizer\n",
    "Load the tokenizer corresponding to the foundation model."
   ]
  },
  {
   "cell_type": "code",
   "execution_count": 5,
   "id": "fae5bf05-867b-4424-b538-0bd41ab564bc",
   "metadata": {},
   "outputs": [],
   "source": [
    "tokenizer = AutoTokenizer.from_pretrained(model_name)\n",
    "\n",
    "# some models do not own a dedicated padding token; thus, we set it manually\n",
    "# using end-of-sequence (eos) token to avoid errors\n",
    "tokenizer.pad_token = tokenizer.eos_token"
   ]
  },
  {
   "cell_type": "markdown",
   "id": "400b6a9a-f99a-4568-8283-b7adfedd699d",
   "metadata": {},
   "source": [
    "## Tokenize the Dataset\n",
    "The tokenizer is responsible for tokenizing the inputs into <b>token IDs</b>. In this regard:\n",
    "<ul>\n",
    "    <li>\n",
    "        <b>truncation:</b> ensures that sequences do not exceed maximum length of tokens (i.e., <em>max_length</em>).\n",
    "    </li>\n",
    "    <li>\n",
    "        <b>padding:</b> pads all sequences to <em>max_length</em>; can be set either here or for collator.\n",
    "    </li>\n",
    "    <li>\n",
    "        <b>labeling:</b> as the procedure is a causal LM training (predicting next tokens), we set <b>labels = input_ids</b>.\n",
    "    </li>\n",
    "</ul>"
   ]
  },
  {
   "cell_type": "code",
   "execution_count": 6,
   "id": "b3a8f400-96c1-4de8-9c62-16ee95dd50bf",
   "metadata": {},
   "outputs": [
    {
     "data": {
      "text/plain": [
       "DatasetDict({\n",
       "    train: Dataset({\n",
       "        features: ['input_ids', 'attention_mask', 'labels'],\n",
       "        num_rows: 1000\n",
       "    })\n",
       "    validation: Dataset({\n",
       "        features: ['input_ids', 'attention_mask', 'labels'],\n",
       "        num_rows: 1000\n",
       "    })\n",
       "    test: Dataset({\n",
       "        features: ['input_ids', 'attention_mask', 'labels'],\n",
       "        num_rows: 1000\n",
       "    })\n",
       "})"
      ]
     },
     "execution_count": 6,
     "metadata": {},
     "output_type": "execute_result"
    }
   ],
   "source": [
    "def tokenization_fn(batch):\n",
    "    out = tokenizer(batch['text'],\n",
    "                    truncation=True,\n",
    "                    padding=\"max_length\",\n",
    "                    max_length=128,\n",
    "                    return_tensors=None)\n",
    "    out[\"labels\"] = out[\"input_ids\"].copy()\n",
    "    \n",
    "    return out\n",
    "\n",
    "tokenized_dataset = dataset.map(tokenization_fn, batched=True, remove_columns=[\"text\"])\n",
    "tokenized_dataset"
   ]
  },
  {
   "cell_type": "markdown",
   "id": "701186a3-9d81-44c1-94b3-f616811f5641",
   "metadata": {},
   "source": [
    "## Load Model\n",
    "We load the foundation model. To this end:\n",
    "<ul>\n",
    "    <li>\n",
    "        We set <em>device_map=\"auto\"</em>, whereby the most compatible device (i.e., cuda, mps, cpu, etc.) is chosen.\n",
    "    </li>\n",
    "    <li>\n",
    "        We set <em>torch_dtype=\"auto\"</em> by which the most suitable dtype is chosen.\n",
    "    </li>\n",
    "</ul>"
   ]
  },
  {
   "cell_type": "code",
   "execution_count": 7,
   "id": "1918f0c5-e387-4139-aae1-c430237b5278",
   "metadata": {},
   "outputs": [],
   "source": [
    "model = AutoModelForCausalLM.from_pretrained(\n",
    "    model_name, device_map=\"auto\", torch_dtype=\"auto\"\n",
    ")"
   ]
  },
  {
   "cell_type": "markdown",
   "id": "ac195e97-e377-45e3-b888-b1394e3729de",
   "metadata": {},
   "source": [
    "## Define Training Hyperparameters\n",
    "We have a list of parameters and hyperparameters to set:\n",
    "<ul>\n",
    "    <li>\n",
    "        <b>output_dir:</b> the directory where checkpoints are saved.\n",
    "    </li>\n",
    "    <li>\n",
    "        <b>per_device_train/eval_batch_size:</b> keeps virtual random access memeory (VRAM) usage low.\n",
    "    </li>\n",
    "    <li>\n",
    "        <b>gradient_accumulation_steps:</b> simulates larger effective batch size without increasing VRAM.\n",
    "    </li>\n",
    "    <li>\n",
    "        <b>num_train_epochs:</b> number of passes over the dataset for fine-tuning.\n",
    "    </li>\n",
    "    <li>\n",
    "        <b>learning_rate:</b> learning rate.\n",
    "    </li>\n",
    "    <li>\n",
    "        <b>logging_steps:</b> number of steps for logging loss.\n",
    "    </li>\n",
    "    <li>\n",
    "        <b>save_steps:</b> number of steps to save checkpoints.\n",
    "    </li>\n",
    "</ul>"
   ]
  },
  {
   "cell_type": "code",
   "execution_count": 8,
   "id": "6150fe0c-e17a-4230-83f3-c7df2920b85c",
   "metadata": {},
   "outputs": [],
   "source": [
    "args = TrainingArguments(\n",
    "    output_dir='output_dir/finetune',\n",
    "    eval_strategy=\"epoch\",\n",
    "    per_device_train_batch_size=8,\n",
    "    per_device_eval_batch_size=8,\n",
    "    gradient_accumulation_steps=8,\n",
    "    num_train_epochs=3,\n",
    "    learning_rate=2e-4,\n",
    "    logging_steps=10,\n",
    "    save_steps=1000,\n",
    "    label_names=[\"labels\"]\n",
    ")"
   ]
  },
  {
   "cell_type": "markdown",
   "id": "f1269184-0377-4e79-906f-7d8a93b9e843",
   "metadata": {},
   "source": [
    "## Create Data Collator\n",
    "Data collator handles padding and batching. It takes a list of individual data samples and organizes them into a single and consistent batch using padding, creating attention masks, handeling special tokens, etc."
   ]
  },
  {
   "cell_type": "code",
   "execution_count": 9,
   "id": "b9988c12-b5d4-461c-bbba-7edd7e01bdff",
   "metadata": {},
   "outputs": [],
   "source": [
    "collator = DataCollatorForLanguageModeling(tokenizer, mlm=False) # not a maske language model (MLM) task\n",
    "# collator = DataCollatorForLanguageModeling(tokenizer, model=model, padding=True) # if padding is not set for tokenizer"
   ]
  },
  {
   "cell_type": "markdown",
   "id": "d35d65bc-5827-41fd-a88a-80bfaa90c951",
   "metadata": {},
   "source": [
    "## Initialize Trainer"
   ]
  },
  {
   "cell_type": "code",
   "execution_count": 10,
   "id": "ce9bf439-6109-4cee-9732-80b15d5c7ba8",
   "metadata": {},
   "outputs": [
    {
     "name": "stderr",
     "output_type": "stream",
     "text": [
      "`loss_type=None` was set in the config but it is unrecognised.Using the default loss: `ForCausalLMLoss`.\n"
     ]
    },
    {
     "data": {
      "text/html": [
       "\n",
       "    <div>\n",
       "      \n",
       "      <progress value='48' max='48' style='width:300px; height:20px; vertical-align: middle;'></progress>\n",
       "      [48/48 01:28, Epoch 3/3]\n",
       "    </div>\n",
       "    <table border=\"1\" class=\"dataframe\">\n",
       "  <thead>\n",
       " <tr style=\"text-align: left;\">\n",
       "      <th>Epoch</th>\n",
       "      <th>Training Loss</th>\n",
       "      <th>Validation Loss</th>\n",
       "    </tr>\n",
       "  </thead>\n",
       "  <tbody>\n",
       "    <tr>\n",
       "      <td>1</td>\n",
       "      <td>3.881700</td>\n",
       "      <td>3.529723</td>\n",
       "    </tr>\n",
       "    <tr>\n",
       "      <td>2</td>\n",
       "      <td>3.010100</td>\n",
       "      <td>3.599098</td>\n",
       "    </tr>\n",
       "    <tr>\n",
       "      <td>3</td>\n",
       "      <td>2.775100</td>\n",
       "      <td>3.627959</td>\n",
       "    </tr>\n",
       "  </tbody>\n",
       "</table><p>"
      ],
      "text/plain": [
       "<IPython.core.display.HTML object>"
      ]
     },
     "metadata": {},
     "output_type": "display_data"
    },
    {
     "name": "stdout",
     "output_type": "stream",
     "text": [
      "Trianing time:  92.3040\n"
     ]
    }
   ],
   "source": [
    "trainer = Trainer(\n",
    "    model=model,\n",
    "    args=args,\n",
    "    train_dataset=tokenized_dataset[\"train\"],\n",
    "    eval_dataset=tokenized_dataset[\"validation\"],\n",
    "    data_collator=collator\n",
    ")\n",
    "start_time = time.time()\n",
    "trainer.train()\n",
    "train_time = time.time() - start_time\n",
    "print(f\"Trianing time: {train_time: .4f}\")"
   ]
  },
  {
   "cell_type": "markdown",
   "id": "ffe8eddd-136a-4402-a8e2-8257f83c4445",
   "metadata": {},
   "source": [
    "## Save Model and Tokenizer"
   ]
  },
  {
   "cell_type": "code",
   "execution_count": 11,
   "id": "c84cdeec-5008-4260-aa58-9057b4715148",
   "metadata": {},
   "outputs": [],
   "source": [
    "# model.save_pretrained(\"models/fine_tuning/fine_tuned\")\n",
    "# tokenizer.save_pretrained(\"models/fine_tuning/fine_tuned\")"
   ]
  },
  {
   "cell_type": "markdown",
   "id": "2e50cc29-dc76-4f5e-9043-3f603b4ec41a",
   "metadata": {},
   "source": [
    "## Evaluations"
   ]
  },
  {
   "cell_type": "code",
   "execution_count": 12,
   "id": "585bca5c-3edd-4f37-ac17-99548572000f",
   "metadata": {},
   "outputs": [
    {
     "data": {
      "text/html": [
       "\n",
       "    <div>\n",
       "      \n",
       "      <progress value='125' max='125' style='width:300px; height:20px; vertical-align: middle;'></progress>\n",
       "      [125/125 00:07]\n",
       "    </div>\n",
       "    "
      ],
      "text/plain": [
       "<IPython.core.display.HTML object>"
      ]
     },
     "metadata": {},
     "output_type": "display_data"
    },
    {
     "name": "stdout",
     "output_type": "stream",
     "text": [
      "eval_loss: 3.914668560028076\n",
      "eval_runtime: 7.299\n",
      "eval_samples_per_second: 137.005\n",
      "eval_steps_per_second: 17.126\n",
      "epoch: 3.0\n"
     ]
    }
   ],
   "source": [
    "metrics = trainer.evaluate(tokenized_dataset[\"test\"])\n",
    "for k, v in metrics.items():\n",
    "    print(f\"{k}: {v}\")"
   ]
  },
  {
   "cell_type": "markdown",
   "id": "749c8300-26c6-426e-9fd2-607b56e63435",
   "metadata": {},
   "source": [
    "### Perplexity\n",
    "Perplexity (PPL) measures how well the model predicts the next token:\n",
    "\n",
    "<center>\n",
    "    $\\text{Perplexity (PPL)} = \\exp(\\text{loss})$\n",
    "</center>\n",
    "\n",
    "<ul>\n",
    "    <li>\n",
    "        <b>Low PPL (<20)</b> → better language modeling.\n",
    "    </li>\n",
    "    <li>\n",
    "        <b>High PPL (>100)</b> → model struggles with the dataset.\n",
    "    </li>\n",
    "</ul>"
   ]
  },
  {
   "cell_type": "code",
   "execution_count": 13,
   "id": "e5e95fb1-995d-40a4-86c5-cc1ea5701a7d",
   "metadata": {},
   "outputs": [
    {
     "name": "stdout",
     "output_type": "stream",
     "text": [
      "Perplexity:  50.1325\n"
     ]
    }
   ],
   "source": [
    "import math\n",
    "loss = metrics['eval_loss']\n",
    "ppl = math.exp(loss)\n",
    "print(f\"Perplexity: {ppl: .4f}\")"
   ]
  },
  {
   "cell_type": "markdown",
   "id": "38873def-2ed6-46f3-9b75-e483247e5ce5",
   "metadata": {},
   "source": [
    "### BLEU and ROUGE\n",
    "<ul>\n",
    "    <li>\n",
    "        <b>BLEU:</b> evaluates the quality of machine-translated text by comparing it to human-created reference translations (overlap of n-grams)\n",
    "    </li>\n",
    "    <li>\n",
    "        <b>ROUGE:</b> calculates precision, recall, and an F1 scores to quantify the overlap in words, phrases, and sequences.\n",
    "    </li>\n",
    "</ul>\n",
    "\n",
    "We need to define a function to genrate the outputs:\n",
    "<ul>\n",
    "    <li>\n",
    "        <b>max_new_tokens</b>: limits the number of tokens the model can generate. it only counts new tokens, not the input. e.g., Input (20 tokens) and <em>max_new_tokens</em>=256. Therefore, the output sequence can be up to 276 tokens (20 input + 256 generated).\n",
    "    </li>\n",
    "    <li>\n",
    "        <b>do_sample</b>: by default, some models use greedy decoding (always pick the highest-probability next token). This feature enables sampling from the model's probability distribution. Hence it makes output less deterministic and more creative/varied.\n",
    "    </li>\n",
    "    <li>\n",
    "        <b>temperature</b>: controls randomness in sampling. If less than 1.0, then makes predictions more confident/conservative; otherwise, the predictions are more random/creative.\n",
    "    </li>\n",
    "    <li>\n",
    "        <b>top_p</b>: implements nucleus sampling, i.e., only considers the smallest set of tokens whose cumulative probability is greater than or equal to <em>top_p</em>.\n",
    "    </li>\n",
    "</ul>"
   ]
  },
  {
   "cell_type": "code",
   "execution_count": 14,
   "id": "99fa8f69-7393-4318-b4eb-482a20149cd9",
   "metadata": {},
   "outputs": [],
   "source": [
    "def get_output(prompt, max_new_tokens=50):\n",
    "    if not prompt.strip():\n",
    "        prompt = tokenizer.eos_token\n",
    "        \n",
    "    inputs = tokenizer(prompt, return_tensors=\"pt\", truncation=True, max_length=512).to(model.device)\n",
    "    outputs = model.generate(\n",
    "        **inputs,\n",
    "        max_new_tokens=max_new_tokens,\n",
    "        do_sample=True,\n",
    "        temperature=0.7,\n",
    "        top_p=0.9,\n",
    "        pad_token_id=model.config.eos_token_id\n",
    "    )\n",
    "    \n",
    "    return tokenizer.decode(outputs[0], skip_special_tokens=True)"
   ]
  },
  {
   "cell_type": "code",
   "execution_count": 15,
   "id": "942340b4-95fd-4c2e-8fc8-a4aeaed599ff",
   "metadata": {},
   "outputs": [],
   "source": [
    "# pip install absl-py nltk datasets rouge-score"
   ]
  },
  {
   "cell_type": "code",
   "execution_count": 16,
   "id": "40e2f1ec-c9f4-437f-b9f7-d5d049af2f88",
   "metadata": {},
   "outputs": [],
   "source": [
    "import numpy as np\n",
    "import evaluate\n",
    "import nltk\n",
    "# nltk.download('punkt')   # ensures ROUGE can tokenize correctly\n",
    "\n",
    "rouge = evaluate.load('rouge')\n",
    "bleu = evaluate.load('bleu')\n",
    "\n",
    "predictions, references = [], []\n",
    "for example in dataset[\"test\"]:\n",
    "    ref = example[\"text\"].strip()\n",
    "    if not ref:\n",
    "        continue\n",
    "        \n",
    "    pred = get_output(ref)\n",
    "    predictions.append(pred)\n",
    "    references.append(ref)\n",
    "\n",
    "rouge_score = rouge.compute(predictions=predictions, references=references)\n",
    "bleu_score = bleu.compute(predictions=predictions, references=references)"
   ]
  },
  {
   "cell_type": "code",
   "execution_count": 17,
   "id": "4e8d2420-c348-4605-af58-9c6a35b5bb78",
   "metadata": {},
   "outputs": [
    {
     "name": "stdout",
     "output_type": "stream",
     "text": [
      "rouge1:  0.6751\n",
      "rouge2:  0.6361\n",
      "rougeL:  0.6742\n",
      "rougeLsum:  0.6746\n"
     ]
    }
   ],
   "source": [
    "for k, v in rouge_score.items():\n",
    "    print(f\"{k}: {v: .4f}\")"
   ]
  },
  {
   "cell_type": "code",
   "execution_count": 18,
   "id": "3183b2f0-8006-4935-afb9-36ea92905b70",
   "metadata": {},
   "outputs": [
    {
     "name": "stdout",
     "output_type": "stream",
     "text": [
      "bleu:  0.7069\n",
      "unigrams:  0.7103\n",
      "bigrams:  0.7079\n",
      "trigrams:  0.7056\n",
      "quadgrams:  0.7036\n"
     ]
    }
   ],
   "source": [
    "grams = ['unigrams', 'bigrams', 'trigrams', 'quadgrams']\n",
    "for k, v in bleu_score.items():\n",
    "    if k == 'bleu':\n",
    "        print(f\"{k}: {v: .4f}\")\n",
    "    elif k == 'precisions':\n",
    "        for i in range(4):\n",
    "            print(f\"{grams[i]}: {v[i]: .4f}\")"
   ]
  },
  {
   "cell_type": "code",
   "execution_count": null,
   "id": "2f9cf74a-1da4-4d67-9b2a-3526bbe282a0",
   "metadata": {},
   "outputs": [],
   "source": []
  }
 ],
 "metadata": {
  "kernelspec": {
   "display_name": "Python 3 (ipykernel)",
   "language": "python",
   "name": "python3"
  },
  "language_info": {
   "codemirror_mode": {
    "name": "ipython",
    "version": 3
   },
   "file_extension": ".py",
   "mimetype": "text/x-python",
   "name": "python",
   "nbconvert_exporter": "python",
   "pygments_lexer": "ipython3",
   "version": "3.12.2"
  }
 },
 "nbformat": 4,
 "nbformat_minor": 5
}
